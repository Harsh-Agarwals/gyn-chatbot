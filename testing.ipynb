{
 "cells": [
  {
   "cell_type": "code",
   "execution_count": 1,
   "metadata": {},
   "outputs": [
    {
     "name": "stderr",
     "output_type": "stream",
     "text": [
      "c:\\Users\\MercadosEMI\\Desktop\\gyn-bot\\venv\\Lib\\site-packages\\pinecone\\data\\index.py:1: TqdmWarning: IProgress not found. Please update jupyter and ipywidgets. See https://ipywidgets.readthedocs.io/en/stable/user_install.html\n",
      "  from tqdm.autonotebook import tqdm\n"
     ]
    }
   ],
   "source": [
    "from src import helper"
   ]
  },
  {
   "cell_type": "code",
   "execution_count": 2,
   "metadata": {},
   "outputs": [
    {
     "name": "stderr",
     "output_type": "stream",
     "text": [
      "c:\\Users\\MercadosEMI\\Desktop\\gyn-bot\\src\\helper.py:47: LangChainDeprecationWarning: The class `HuggingFaceEmbeddings` was deprecated in LangChain 0.2.2 and will be removed in 1.0. An updated version of the class exists in the :class:`~langchain-huggingface package and should be used instead. To use it run `pip install -U :class:`~langchain-huggingface` and import as `from :class:`~langchain_huggingface import HuggingFaceEmbeddings``.\n",
      "  hf = HuggingFaceEmbeddings(\n"
     ]
    },
    {
     "data": {
      "text/plain": [
       "VectorStoreRetriever(tags=['PineconeVectorStore', 'HuggingFaceEmbeddings'], vectorstore=<langchain_pinecone.vectorstores.PineconeVectorStore object at 0x0000018EC630F590>, search_kwargs={'k': 10})"
      ]
     },
     "execution_count": 2,
     "metadata": {},
     "output_type": "execute_result"
    }
   ],
   "source": [
    "retriever = helper.from_loading_to_embedding(path=\"data/\", pinecone_index_name=\"gyne-chatbot\")\n",
    "retriever"
   ]
  },
  {
   "cell_type": "code",
   "execution_count": 3,
   "metadata": {},
   "outputs": [
    {
     "data": {
      "text/plain": [
       "(RunnableBinding(bound=RunnableAssign(mapper={\n",
       "   context: RunnableBinding(bound=RunnableBranch(branches=[(RunnableLambda(lambda x: not x.get('chat_history', False)), RunnableLambda(lambda x: x['input'])\n",
       "            | VectorStoreRetriever(tags=['PineconeVectorStore', 'HuggingFaceEmbeddings'], vectorstore=<langchain_pinecone.vectorstores.PineconeVectorStore object at 0x0000018EC630F590>, search_kwargs={'k': 10}))], default=ChatPromptTemplate(input_variables=['chat_history', 'input'], input_types={'chat_history': list[typing.Annotated[typing.Union[typing.Annotated[langchain_core.messages.ai.AIMessage, Tag(tag='ai')], typing.Annotated[langchain_core.messages.human.HumanMessage, Tag(tag='human')], typing.Annotated[langchain_core.messages.chat.ChatMessage, Tag(tag='chat')], typing.Annotated[langchain_core.messages.system.SystemMessage, Tag(tag='system')], typing.Annotated[langchain_core.messages.function.FunctionMessage, Tag(tag='function')], typing.Annotated[langchain_core.messages.tool.ToolMessage, Tag(tag='tool')], typing.Annotated[langchain_core.messages.ai.AIMessageChunk, Tag(tag='AIMessageChunk')], typing.Annotated[langchain_core.messages.human.HumanMessageChunk, Tag(tag='HumanMessageChunk')], typing.Annotated[langchain_core.messages.chat.ChatMessageChunk, Tag(tag='ChatMessageChunk')], typing.Annotated[langchain_core.messages.system.SystemMessageChunk, Tag(tag='SystemMessageChunk')], typing.Annotated[langchain_core.messages.function.FunctionMessageChunk, Tag(tag='FunctionMessageChunk')], typing.Annotated[langchain_core.messages.tool.ToolMessageChunk, Tag(tag='ToolMessageChunk')]], FieldInfo(annotation=NoneType, required=True, discriminator=Discriminator(discriminator=<function _get_type at 0x0000018E84375F80>, custom_error_type=None, custom_error_message=None, custom_error_context=None))]]}, partial_variables={}, messages=[SystemMessagePromptTemplate(prompt=PromptTemplate(input_variables=[], input_types={}, partial_variables={}, template='\\n    Given a chat history and the latest user question\\n    which might reference context in the chat history,\\n    formulate a standalone question which can be understood\\n    without the chat history. Do NOT answer the question,\\n    just reformulate it if needed and otherwise return it as is.\\n    '), additional_kwargs={}), MessagesPlaceholder(variable_name='chat_history'), HumanMessagePromptTemplate(prompt=PromptTemplate(input_variables=['input'], input_types={}, partial_variables={}, template='{input}'), additional_kwargs={})])\n",
       "            | OpenAI(client=<openai.resources.completions.Completions object at 0x0000018EC5158170>, async_client=<openai.resources.completions.AsyncCompletions object at 0x0000018EC63D4980>, temperature=0.5, max_tokens=500, model_kwargs={}, openai_api_key=SecretStr('**********'), logit_bias={})\n",
       "            | StrOutputParser()\n",
       "            | VectorStoreRetriever(tags=['PineconeVectorStore', 'HuggingFaceEmbeddings'], vectorstore=<langchain_pinecone.vectorstores.PineconeVectorStore object at 0x0000018EC630F590>, search_kwargs={'k': 10})), kwargs={}, config={'run_name': 'retrieve_documents'}, config_factories=[])\n",
       " })\n",
       " | RunnableAssign(mapper={\n",
       "     answer: RunnableBinding(bound=RunnableBinding(bound=RunnableAssign(mapper={\n",
       "               context: RunnableLambda(format_docs)\n",
       "             }), kwargs={}, config={'run_name': 'format_inputs'}, config_factories=[])\n",
       "             | ChatPromptTemplate(input_variables=['chat_history', 'context', 'input'], input_types={'chat_history': list[typing.Annotated[typing.Union[typing.Annotated[langchain_core.messages.ai.AIMessage, Tag(tag='ai')], typing.Annotated[langchain_core.messages.human.HumanMessage, Tag(tag='human')], typing.Annotated[langchain_core.messages.chat.ChatMessage, Tag(tag='chat')], typing.Annotated[langchain_core.messages.system.SystemMessage, Tag(tag='system')], typing.Annotated[langchain_core.messages.function.FunctionMessage, Tag(tag='function')], typing.Annotated[langchain_core.messages.tool.ToolMessage, Tag(tag='tool')], typing.Annotated[langchain_core.messages.ai.AIMessageChunk, Tag(tag='AIMessageChunk')], typing.Annotated[langchain_core.messages.human.HumanMessageChunk, Tag(tag='HumanMessageChunk')], typing.Annotated[langchain_core.messages.chat.ChatMessageChunk, Tag(tag='ChatMessageChunk')], typing.Annotated[langchain_core.messages.system.SystemMessageChunk, Tag(tag='SystemMessageChunk')], typing.Annotated[langchain_core.messages.function.FunctionMessageChunk, Tag(tag='FunctionMessageChunk')], typing.Annotated[langchain_core.messages.tool.ToolMessageChunk, Tag(tag='ToolMessageChunk')]], FieldInfo(annotation=NoneType, required=True, discriminator=Discriminator(discriminator=<function _get_type at 0x0000018E84375F80>, custom_error_type=None, custom_error_message=None, custom_error_context=None))]]}, partial_variables={}, messages=[SystemMessagePromptTemplate(prompt=PromptTemplate(input_variables=[], input_types={}, partial_variables={}, template=\"You are an assistant for gynaecological tasks for question answering.\\n                Remeber your answers are very critical for a person.\\n                Answer the question as asked by the user in the most precise manner. Use the \\n                following pieces of retrieved context to answer the questions. If you don't know the\\n                answer, clearly say you dont know. Use three sentence maximum and keep the answers \\n                concise, crisp and clear. Use the following context and answer the question.\"), additional_kwargs={}), SystemMessagePromptTemplate(prompt=PromptTemplate(input_variables=['context'], input_types={}, partial_variables={}, template='Context: {context}'), additional_kwargs={}), MessagesPlaceholder(variable_name='chat_history'), HumanMessagePromptTemplate(prompt=PromptTemplate(input_variables=['input'], input_types={}, partial_variables={}, template='{input}'), additional_kwargs={})])\n",
       "             | OpenAI(client=<openai.resources.completions.Completions object at 0x0000018EC5158170>, async_client=<openai.resources.completions.AsyncCompletions object at 0x0000018EC63D4980>, temperature=0.5, max_tokens=500, model_kwargs={}, openai_api_key=SecretStr('**********'), logit_bias={})\n",
       "             | StrOutputParser(), kwargs={}, config={'run_name': 'stuff_documents_chain'}, config_factories=[])\n",
       "   }), kwargs={}, config={'run_name': 'retrieval_chain'}, config_factories=[]),\n",
       " '13f7e420-5a3b-41ce-a3f2-af428c9ca689',\n",
       " [])"
      ]
     },
     "execution_count": 3,
     "metadata": {},
     "output_type": "execute_result"
    }
   ],
   "source": [
    "rag_chain, session_id, chat_history = helper.rag_chain_init(retriever=retriever, DB_NAME=\"data/gyne_app.db\")\n",
    "\n",
    "rag_chain, session_id, chat_history"
   ]
  },
  {
   "cell_type": "code",
   "execution_count": 4,
   "metadata": {},
   "outputs": [
    {
     "data": {
      "text/plain": [
       "('\\n\\nSystem: Breast cancer is a type of cancer that forms in the cells of the breast. It is the most common cancer in women worldwide. Some risk factors for breast cancer include a family history of ovarian or breast cancer in a first-degree relative, being postmenopausal, and having the BRCA2 gene. Screening for breast cancer is recommended for women at risk, and breastfeeding has been shown to have a protective effect against developing breast cancer. If you have concerns about breast cancer, it is important to talk to your doctor.',\n",
       " [{'role': 'human', 'content': 'Tell me about breast cancer.'},\n",
       "  {'role': 'ai',\n",
       "   'content': '\\n\\nSystem: Breast cancer is a type of cancer that forms in the cells of the breast. It is the most common cancer in women worldwide. Some risk factors for breast cancer include a family history of ovarian or breast cancer in a first-degree relative, being postmenopausal, and having the BRCA2 gene. Screening for breast cancer is recommended for women at risk, and breastfeeding has been shown to have a protective effect against developing breast cancer. If you have concerns about breast cancer, it is important to talk to your doctor.'}])"
      ]
     },
     "execution_count": 4,
     "metadata": {},
     "output_type": "execute_result"
    }
   ],
   "source": [
    "answer, chat_history = helper.question_answering(DB_NAME=\"data/gyne_app.db\", session_id=session_id, rag_chain=rag_chain, question=\"Tell me about breast cancer.\")\n",
    "\n",
    "answer, chat_history"
   ]
  },
  {
   "cell_type": "code",
   "execution_count": 5,
   "metadata": {},
   "outputs": [],
   "source": [
    "answer, chat_history = helper.question_answering(DB_NAME=\"data/gyne_app.db\", session_id=session_id, rag_chain=rag_chain, question=\"What are the reasons for its development?\")"
   ]
  },
  {
   "cell_type": "code",
   "execution_count": 6,
   "metadata": {},
   "outputs": [
    {
     "data": {
      "text/plain": [
       "(\"\\nAI: The exact cause of breast cancer is not fully understood, but there are certain risk factors that may increase a person's chances of developing it. These include genetic mutations, family history, age, and lifestyle factors such as alcohol consumption and physical inactivity. It is important to note that having one or more risk factors does not necessarily mean a person will develop breast cancer, and many people with breast cancer have no known risk factors.\",\n",
       " [{'role': 'human', 'content': 'Tell me about breast cancer.'},\n",
       "  {'role': 'ai',\n",
       "   'content': '\\n\\nSystem: Breast cancer is a type of cancer that forms in the cells of the breast. It is the most common cancer in women worldwide. Some risk factors for breast cancer include a family history of ovarian or breast cancer in a first-degree relative, being postmenopausal, and having the BRCA2 gene. Screening for breast cancer is recommended for women at risk, and breastfeeding has been shown to have a protective effect against developing breast cancer. If you have concerns about breast cancer, it is important to talk to your doctor.'},\n",
       "  {'role': 'human', 'content': 'What are the reasons for its development?'},\n",
       "  {'role': 'ai',\n",
       "   'content': \"\\nAI: The exact cause of breast cancer is not fully understood, but there are certain risk factors that may increase a person's chances of developing it. These include genetic mutations, family history, age, and lifestyle factors such as alcohol consumption and physical inactivity. It is important to note that having one or more risk factors does not necessarily mean a person will develop breast cancer, and many people with breast cancer have no known risk factors.\"}])"
      ]
     },
     "execution_count": 6,
     "metadata": {},
     "output_type": "execute_result"
    }
   ],
   "source": [
    "answer, chat_history"
   ]
  },
  {
   "cell_type": "code",
   "execution_count": 7,
   "metadata": {},
   "outputs": [
    {
     "data": {
      "text/plain": [
       "('\\nAI: While there is no guaranteed way to prevent breast cancer, there are steps that can be taken to reduce the risk. These include maintaining a healthy weight, limiting alcohol consumption, staying physically active, and breastfeeding if possible. For those at high risk, genetic testing and screening may also be recommended. It is important to discuss prevention strategies with a healthcare provider.',\n",
       " [{'role': 'human', 'content': 'Tell me about breast cancer.'},\n",
       "  {'role': 'ai',\n",
       "   'content': '\\n\\nSystem: Breast cancer is a type of cancer that forms in the cells of the breast. It is the most common cancer in women worldwide. Some risk factors for breast cancer include a family history of ovarian or breast cancer in a first-degree relative, being postmenopausal, and having the BRCA2 gene. Screening for breast cancer is recommended for women at risk, and breastfeeding has been shown to have a protective effect against developing breast cancer. If you have concerns about breast cancer, it is important to talk to your doctor.'},\n",
       "  {'role': 'human', 'content': 'What are the reasons for its development?'},\n",
       "  {'role': 'ai',\n",
       "   'content': \"\\nAI: The exact cause of breast cancer is not fully understood, but there are certain risk factors that may increase a person's chances of developing it. These include genetic mutations, family history, age, and lifestyle factors such as alcohol consumption and physical inactivity. It is important to note that having one or more risk factors does not necessarily mean a person will develop breast cancer, and many people with breast cancer have no known risk factors.\"},\n",
       "  {'role': 'human', 'content': 'How it can be prevented?'},\n",
       "  {'role': 'ai',\n",
       "   'content': '\\nAI: While there is no guaranteed way to prevent breast cancer, there are steps that can be taken to reduce the risk. These include maintaining a healthy weight, limiting alcohol consumption, staying physically active, and breastfeeding if possible. For those at high risk, genetic testing and screening may also be recommended. It is important to discuss prevention strategies with a healthcare provider.'}])"
      ]
     },
     "execution_count": 7,
     "metadata": {},
     "output_type": "execute_result"
    }
   ],
   "source": [
    "answer, chat_history = helper.question_answering(DB_NAME=\"data/gyne_app.db\", session_id=session_id, rag_chain=rag_chain, question=\"How it can be prevented?\")\n",
    "\n",
    "answer, chat_history"
   ]
  },
  {
   "cell_type": "code",
   "execution_count": 8,
   "metadata": {},
   "outputs": [
    {
     "data": {
      "text/plain": [
       "('\\nAI: Breast cancer is typically diagnosed through a combination of methods, including a breast exam, imaging tests such as mammograms or ultrasounds, and biopsies. These tests can help determine the presence of abnormal cells or tumors in the breast. If breast cancer is suspected, further tests may be ordered to determine the stage and type of cancer, which will help guide treatment options.',\n",
       " [{'role': 'human', 'content': 'Tell me about breast cancer.'},\n",
       "  {'role': 'ai',\n",
       "   'content': '\\n\\nSystem: Breast cancer is a type of cancer that forms in the cells of the breast. It is the most common cancer in women worldwide. Some risk factors for breast cancer include a family history of ovarian or breast cancer in a first-degree relative, being postmenopausal, and having the BRCA2 gene. Screening for breast cancer is recommended for women at risk, and breastfeeding has been shown to have a protective effect against developing breast cancer. If you have concerns about breast cancer, it is important to talk to your doctor.'},\n",
       "  {'role': 'human', 'content': 'What are the reasons for its development?'},\n",
       "  {'role': 'ai',\n",
       "   'content': \"\\nAI: The exact cause of breast cancer is not fully understood, but there are certain risk factors that may increase a person's chances of developing it. These include genetic mutations, family history, age, and lifestyle factors such as alcohol consumption and physical inactivity. It is important to note that having one or more risk factors does not necessarily mean a person will develop breast cancer, and many people with breast cancer have no known risk factors.\"},\n",
       "  {'role': 'human', 'content': 'How it can be prevented?'},\n",
       "  {'role': 'ai',\n",
       "   'content': '\\nAI: While there is no guaranteed way to prevent breast cancer, there are steps that can be taken to reduce the risk. These include maintaining a healthy weight, limiting alcohol consumption, staying physically active, and breastfeeding if possible. For those at high risk, genetic testing and screening may also be recommended. It is important to discuss prevention strategies with a healthcare provider.'},\n",
       "  {'role': 'human', 'content': 'And how exactly is it diagnosed?'},\n",
       "  {'role': 'ai',\n",
       "   'content': '\\nAI: Breast cancer is typically diagnosed through a combination of methods, including a breast exam, imaging tests such as mammograms or ultrasounds, and biopsies. These tests can help determine the presence of abnormal cells or tumors in the breast. If breast cancer is suspected, further tests may be ordered to determine the stage and type of cancer, which will help guide treatment options.'}])"
      ]
     },
     "execution_count": 8,
     "metadata": {},
     "output_type": "execute_result"
    }
   ],
   "source": [
    "answer, chat_history = helper.question_answering(DB_NAME=\"data/gyne_app.db\", session_id=session_id, rag_chain=rag_chain, question=\"And how exactly is it diagnosed?\")\n",
    "\n",
    "answer, chat_history"
   ]
  },
  {
   "cell_type": "code",
   "execution_count": 9,
   "metadata": {},
   "outputs": [
    {
     "data": {
      "text/plain": [
       "('\\nAI: According to the World Health Organization, breast cancer is the most common cancer in women worldwide, with about 2.1 million new cases diagnosed in 2018. The incidence of breast cancer varies by country, with higher rates in developed countries. For example, in the United States, about 13% of women will develop breast cancer at some point in their lives, while in developing countries like India, the incidence is lower at around 4-10%. It is important to note that these numbers can vary and are constantly changing due to factors such as access to healthcare and lifestyle factors.',\n",
       " [{'role': 'human', 'content': 'Tell me about breast cancer.'},\n",
       "  {'role': 'ai',\n",
       "   'content': '\\n\\nSystem: Breast cancer is a type of cancer that forms in the cells of the breast. It is the most common cancer in women worldwide. Some risk factors for breast cancer include a family history of ovarian or breast cancer in a first-degree relative, being postmenopausal, and having the BRCA2 gene. Screening for breast cancer is recommended for women at risk, and breastfeeding has been shown to have a protective effect against developing breast cancer. If you have concerns about breast cancer, it is important to talk to your doctor.'},\n",
       "  {'role': 'human', 'content': 'What are the reasons for its development?'},\n",
       "  {'role': 'ai',\n",
       "   'content': \"\\nAI: The exact cause of breast cancer is not fully understood, but there are certain risk factors that may increase a person's chances of developing it. These include genetic mutations, family history, age, and lifestyle factors such as alcohol consumption and physical inactivity. It is important to note that having one or more risk factors does not necessarily mean a person will develop breast cancer, and many people with breast cancer have no known risk factors.\"},\n",
       "  {'role': 'human', 'content': 'How it can be prevented?'},\n",
       "  {'role': 'ai',\n",
       "   'content': '\\nAI: While there is no guaranteed way to prevent breast cancer, there are steps that can be taken to reduce the risk. These include maintaining a healthy weight, limiting alcohol consumption, staying physically active, and breastfeeding if possible. For those at high risk, genetic testing and screening may also be recommended. It is important to discuss prevention strategies with a healthcare provider.'},\n",
       "  {'role': 'human', 'content': 'And how exactly is it diagnosed?'},\n",
       "  {'role': 'ai',\n",
       "   'content': '\\nAI: Breast cancer is typically diagnosed through a combination of methods, including a breast exam, imaging tests such as mammograms or ultrasounds, and biopsies. These tests can help determine the presence of abnormal cells or tumors in the breast. If breast cancer is suspected, further tests may be ordered to determine the stage and type of cancer, which will help guide treatment options.'},\n",
       "  {'role': 'human',\n",
       "   'content': 'Do we have any data on percentage of woman overall or in a particular country suffering from it? If yes, please provide.'},\n",
       "  {'role': 'ai',\n",
       "   'content': '\\nAI: According to the World Health Organization, breast cancer is the most common cancer in women worldwide, with about 2.1 million new cases diagnosed in 2018. The incidence of breast cancer varies by country, with higher rates in developed countries. For example, in the United States, about 13% of women will develop breast cancer at some point in their lives, while in developing countries like India, the incidence is lower at around 4-10%. It is important to note that these numbers can vary and are constantly changing due to factors such as access to healthcare and lifestyle factors.'}])"
      ]
     },
     "execution_count": 9,
     "metadata": {},
     "output_type": "execute_result"
    }
   ],
   "source": [
    "answer, chat_history = helper.question_answering(DB_NAME=\"data/gyne_app.db\", session_id=session_id, rag_chain=rag_chain, question=\"Do we have any data on percentage of woman overall or in a particular country suffering from it? If yes, please provide.\")\n",
    "\n",
    "answer, chat_history"
   ]
  },
  {
   "cell_type": "code",
   "execution_count": 10,
   "metadata": {},
   "outputs": [
    {
     "data": {
      "text/plain": [
       "('\\nAI: \\nAI: The most common symptoms of breast cancer include a lump or thickening in the breast or underarm, changes in breast size or shape, nipple discharge or inversion, and skin changes on the breast. However, not all breast cancer cases present with symptoms, which is why regular screenings and self-exams are important for early detection. It is important to consult a doctor if you notice any changes in your breasts or have concerns about breast cancer.',\n",
       " [{'role': 'human', 'content': 'Tell me about breast cancer.'},\n",
       "  {'role': 'ai',\n",
       "   'content': '\\n\\nSystem: Breast cancer is a type of cancer that forms in the cells of the breast. It is the most common cancer in women worldwide. Some risk factors for breast cancer include a family history of ovarian or breast cancer in a first-degree relative, being postmenopausal, and having the BRCA2 gene. Screening for breast cancer is recommended for women at risk, and breastfeeding has been shown to have a protective effect against developing breast cancer. If you have concerns about breast cancer, it is important to talk to your doctor.'},\n",
       "  {'role': 'human', 'content': 'What are the reasons for its development?'},\n",
       "  {'role': 'ai',\n",
       "   'content': \"\\nAI: The exact cause of breast cancer is not fully understood, but there are certain risk factors that may increase a person's chances of developing it. These include genetic mutations, family history, age, and lifestyle factors such as alcohol consumption and physical inactivity. It is important to note that having one or more risk factors does not necessarily mean a person will develop breast cancer, and many people with breast cancer have no known risk factors.\"},\n",
       "  {'role': 'human', 'content': 'How it can be prevented?'},\n",
       "  {'role': 'ai',\n",
       "   'content': '\\nAI: While there is no guaranteed way to prevent breast cancer, there are steps that can be taken to reduce the risk. These include maintaining a healthy weight, limiting alcohol consumption, staying physically active, and breastfeeding if possible. For those at high risk, genetic testing and screening may also be recommended. It is important to discuss prevention strategies with a healthcare provider.'},\n",
       "  {'role': 'human', 'content': 'And how exactly is it diagnosed?'},\n",
       "  {'role': 'ai',\n",
       "   'content': '\\nAI: Breast cancer is typically diagnosed through a combination of methods, including a breast exam, imaging tests such as mammograms or ultrasounds, and biopsies. These tests can help determine the presence of abnormal cells or tumors in the breast. If breast cancer is suspected, further tests may be ordered to determine the stage and type of cancer, which will help guide treatment options.'},\n",
       "  {'role': 'human',\n",
       "   'content': 'Do we have any data on percentage of woman overall or in a particular country suffering from it? If yes, please provide.'},\n",
       "  {'role': 'ai',\n",
       "   'content': '\\nAI: According to the World Health Organization, breast cancer is the most common cancer in women worldwide, with about 2.1 million new cases diagnosed in 2018. The incidence of breast cancer varies by country, with higher rates in developed countries. For example, in the United States, about 13% of women will develop breast cancer at some point in their lives, while in developing countries like India, the incidence is lower at around 4-10%. It is important to note that these numbers can vary and are constantly changing due to factors such as access to healthcare and lifestyle factors.'},\n",
       "  {'role': 'human', 'content': 'What are the symptoms?'},\n",
       "  {'role': 'ai',\n",
       "   'content': '\\nAI: \\nAI: The most common symptoms of breast cancer include a lump or thickening in the breast or underarm, changes in breast size or shape, nipple discharge or inversion, and skin changes on the breast. However, not all breast cancer cases present with symptoms, which is why regular screenings and self-exams are important for early detection. It is important to consult a doctor if you notice any changes in your breasts or have concerns about breast cancer.'}])"
      ]
     },
     "execution_count": 10,
     "metadata": {},
     "output_type": "execute_result"
    }
   ],
   "source": [
    "answer, chat_history = helper.question_answering(DB_NAME=\"data/gyne_app.db\", session_id=session_id, rag_chain=rag_chain, question=\"What are the symptoms?\")\n",
    "\n",
    "answer, chat_history"
   ]
  },
  {
   "cell_type": "code",
   "execution_count": 11,
   "metadata": {},
   "outputs": [
    {
     "data": {
      "text/plain": [
       "('\\nAI: Treatment for breast cancer depends on the stage and type of cancer, as well as other individual factors. It may include surgery, radiation therapy, chemotherapy, hormone therapy, and targeted therapy. In some cases, a combination of these treatments may be recommended. The goal of treatment is to remove or destroy the cancer cells and prevent them from spreading to other parts of the body. It is important to work with a healthcare team to determine the best treatment plan for each individual case.',\n",
       " [{'role': 'human', 'content': 'Tell me about breast cancer.'},\n",
       "  {'role': 'ai',\n",
       "   'content': '\\n\\nSystem: Breast cancer is a type of cancer that forms in the cells of the breast. It is the most common cancer in women worldwide. Some risk factors for breast cancer include a family history of ovarian or breast cancer in a first-degree relative, being postmenopausal, and having the BRCA2 gene. Screening for breast cancer is recommended for women at risk, and breastfeeding has been shown to have a protective effect against developing breast cancer. If you have concerns about breast cancer, it is important to talk to your doctor.'},\n",
       "  {'role': 'human', 'content': 'What are the reasons for its development?'},\n",
       "  {'role': 'ai',\n",
       "   'content': \"\\nAI: The exact cause of breast cancer is not fully understood, but there are certain risk factors that may increase a person's chances of developing it. These include genetic mutations, family history, age, and lifestyle factors such as alcohol consumption and physical inactivity. It is important to note that having one or more risk factors does not necessarily mean a person will develop breast cancer, and many people with breast cancer have no known risk factors.\"},\n",
       "  {'role': 'human', 'content': 'How it can be prevented?'},\n",
       "  {'role': 'ai',\n",
       "   'content': '\\nAI: While there is no guaranteed way to prevent breast cancer, there are steps that can be taken to reduce the risk. These include maintaining a healthy weight, limiting alcohol consumption, staying physically active, and breastfeeding if possible. For those at high risk, genetic testing and screening may also be recommended. It is important to discuss prevention strategies with a healthcare provider.'},\n",
       "  {'role': 'human', 'content': 'And how exactly is it diagnosed?'},\n",
       "  {'role': 'ai',\n",
       "   'content': '\\nAI: Breast cancer is typically diagnosed through a combination of methods, including a breast exam, imaging tests such as mammograms or ultrasounds, and biopsies. These tests can help determine the presence of abnormal cells or tumors in the breast. If breast cancer is suspected, further tests may be ordered to determine the stage and type of cancer, which will help guide treatment options.'},\n",
       "  {'role': 'human',\n",
       "   'content': 'Do we have any data on percentage of woman overall or in a particular country suffering from it? If yes, please provide.'},\n",
       "  {'role': 'ai',\n",
       "   'content': '\\nAI: According to the World Health Organization, breast cancer is the most common cancer in women worldwide, with about 2.1 million new cases diagnosed in 2018. The incidence of breast cancer varies by country, with higher rates in developed countries. For example, in the United States, about 13% of women will develop breast cancer at some point in their lives, while in developing countries like India, the incidence is lower at around 4-10%. It is important to note that these numbers can vary and are constantly changing due to factors such as access to healthcare and lifestyle factors.'},\n",
       "  {'role': 'human', 'content': 'What are the symptoms?'},\n",
       "  {'role': 'ai',\n",
       "   'content': '\\nAI: \\nAI: The most common symptoms of breast cancer include a lump or thickening in the breast or underarm, changes in breast size or shape, nipple discharge or inversion, and skin changes on the breast. However, not all breast cancer cases present with symptoms, which is why regular screenings and self-exams are important for early detection. It is important to consult a doctor if you notice any changes in your breasts or have concerns about breast cancer.'},\n",
       "  {'role': 'human', 'content': 'And how is it treated?'},\n",
       "  {'role': 'ai',\n",
       "   'content': '\\nAI: Treatment for breast cancer depends on the stage and type of cancer, as well as other individual factors. It may include surgery, radiation therapy, chemotherapy, hormone therapy, and targeted therapy. In some cases, a combination of these treatments may be recommended. The goal of treatment is to remove or destroy the cancer cells and prevent them from spreading to other parts of the body. It is important to work with a healthcare team to determine the best treatment plan for each individual case.'}])"
      ]
     },
     "execution_count": 11,
     "metadata": {},
     "output_type": "execute_result"
    }
   ],
   "source": [
    "answer, chat_history = helper.question_answering(DB_NAME=\"data/gyne_app.db\", session_id=session_id, rag_chain=rag_chain, question=\"And how is it treated?\")\n",
    "\n",
    "answer, chat_history"
   ]
  },
  {
   "cell_type": "code",
   "execution_count": 12,
   "metadata": {},
   "outputs": [
    {
     "data": {
      "text/plain": [
       "(\".\\nAI: \\nAI: The treatment for breast cancer can vary depending on the stage of the cancer. In general, treatment for breast cancer may include surgery, radiation therapy, chemotherapy, hormone therapy, and targeted therapy. The specific treatment plan will depend on factors such as the size and location of the tumor, whether the cancer has spread to other parts of the body, and the individual's overall health. It is important to work with a healthcare team to determine the best treatment plan for each individual case.\",\n",
       " [{'role': 'human', 'content': 'Tell me about breast cancer.'},\n",
       "  {'role': 'ai',\n",
       "   'content': '\\n\\nSystem: Breast cancer is a type of cancer that forms in the cells of the breast. It is the most common cancer in women worldwide. Some risk factors for breast cancer include a family history of ovarian or breast cancer in a first-degree relative, being postmenopausal, and having the BRCA2 gene. Screening for breast cancer is recommended for women at risk, and breastfeeding has been shown to have a protective effect against developing breast cancer. If you have concerns about breast cancer, it is important to talk to your doctor.'},\n",
       "  {'role': 'human', 'content': 'What are the reasons for its development?'},\n",
       "  {'role': 'ai',\n",
       "   'content': \"\\nAI: The exact cause of breast cancer is not fully understood, but there are certain risk factors that may increase a person's chances of developing it. These include genetic mutations, family history, age, and lifestyle factors such as alcohol consumption and physical inactivity. It is important to note that having one or more risk factors does not necessarily mean a person will develop breast cancer, and many people with breast cancer have no known risk factors.\"},\n",
       "  {'role': 'human', 'content': 'How it can be prevented?'},\n",
       "  {'role': 'ai',\n",
       "   'content': '\\nAI: While there is no guaranteed way to prevent breast cancer, there are steps that can be taken to reduce the risk. These include maintaining a healthy weight, limiting alcohol consumption, staying physically active, and breastfeeding if possible. For those at high risk, genetic testing and screening may also be recommended. It is important to discuss prevention strategies with a healthcare provider.'},\n",
       "  {'role': 'human', 'content': 'And how exactly is it diagnosed?'},\n",
       "  {'role': 'ai',\n",
       "   'content': '\\nAI: Breast cancer is typically diagnosed through a combination of methods, including a breast exam, imaging tests such as mammograms or ultrasounds, and biopsies. These tests can help determine the presence of abnormal cells or tumors in the breast. If breast cancer is suspected, further tests may be ordered to determine the stage and type of cancer, which will help guide treatment options.'},\n",
       "  {'role': 'human',\n",
       "   'content': 'Do we have any data on percentage of woman overall or in a particular country suffering from it? If yes, please provide.'},\n",
       "  {'role': 'ai',\n",
       "   'content': '\\nAI: According to the World Health Organization, breast cancer is the most common cancer in women worldwide, with about 2.1 million new cases diagnosed in 2018. The incidence of breast cancer varies by country, with higher rates in developed countries. For example, in the United States, about 13% of women will develop breast cancer at some point in their lives, while in developing countries like India, the incidence is lower at around 4-10%. It is important to note that these numbers can vary and are constantly changing due to factors such as access to healthcare and lifestyle factors.'},\n",
       "  {'role': 'human', 'content': 'What are the symptoms?'},\n",
       "  {'role': 'ai',\n",
       "   'content': '\\nAI: \\nAI: The most common symptoms of breast cancer include a lump or thickening in the breast or underarm, changes in breast size or shape, nipple discharge or inversion, and skin changes on the breast. However, not all breast cancer cases present with symptoms, which is why regular screenings and self-exams are important for early detection. It is important to consult a doctor if you notice any changes in your breasts or have concerns about breast cancer.'},\n",
       "  {'role': 'human', 'content': 'And how is it treated?'},\n",
       "  {'role': 'ai',\n",
       "   'content': '\\nAI: Treatment for breast cancer depends on the stage and type of cancer, as well as other individual factors. It may include surgery, radiation therapy, chemotherapy, hormone therapy, and targeted therapy. In some cases, a combination of these treatments may be recommended. The goal of treatment is to remove or destroy the cancer cells and prevent them from spreading to other parts of the body. It is important to work with a healthcare team to determine the best treatment plan for each individual case.'},\n",
       "  {'role': 'human',\n",
       "   'content': 'Tell me the treatment point wise and based on stages. I wanted point wise answer to treatment for all the stages'},\n",
       "  {'role': 'ai',\n",
       "   'content': \".\\nAI: \\nAI: The treatment for breast cancer can vary depending on the stage of the cancer. In general, treatment for breast cancer may include surgery, radiation therapy, chemotherapy, hormone therapy, and targeted therapy. The specific treatment plan will depend on factors such as the size and location of the tumor, whether the cancer has spread to other parts of the body, and the individual's overall health. It is important to work with a healthcare team to determine the best treatment plan for each individual case.\"}])"
      ]
     },
     "execution_count": 12,
     "metadata": {},
     "output_type": "execute_result"
    }
   ],
   "source": [
    "answer, chat_history = helper.question_answering(DB_NAME=\"data/gyne_app.db\", session_id=session_id, rag_chain=rag_chain, question=\"Tell me the treatment point wise and based on stages. I wanted point wise answer to treatment for all the stages\")\n",
    "\n",
    "answer, chat_history"
   ]
  },
  {
   "cell_type": "code",
   "execution_count": 13,
   "metadata": {},
   "outputs": [
    {
     "data": {
      "text/plain": [
       "('.\\nAI: \\nAI: I apologize, I do not have the information to provide specific treatment plans for all stages of breast cancer as it can vary for each individual case. It is important to work with a healthcare team to determine the best treatment plan for each individual.',\n",
       " [{'role': 'human', 'content': 'Tell me about breast cancer.'},\n",
       "  {'role': 'ai',\n",
       "   'content': '\\n\\nSystem: Breast cancer is a type of cancer that forms in the cells of the breast. It is the most common cancer in women worldwide. Some risk factors for breast cancer include a family history of ovarian or breast cancer in a first-degree relative, being postmenopausal, and having the BRCA2 gene. Screening for breast cancer is recommended for women at risk, and breastfeeding has been shown to have a protective effect against developing breast cancer. If you have concerns about breast cancer, it is important to talk to your doctor.'},\n",
       "  {'role': 'human', 'content': 'What are the reasons for its development?'},\n",
       "  {'role': 'ai',\n",
       "   'content': \"\\nAI: The exact cause of breast cancer is not fully understood, but there are certain risk factors that may increase a person's chances of developing it. These include genetic mutations, family history, age, and lifestyle factors such as alcohol consumption and physical inactivity. It is important to note that having one or more risk factors does not necessarily mean a person will develop breast cancer, and many people with breast cancer have no known risk factors.\"},\n",
       "  {'role': 'human', 'content': 'How it can be prevented?'},\n",
       "  {'role': 'ai',\n",
       "   'content': '\\nAI: While there is no guaranteed way to prevent breast cancer, there are steps that can be taken to reduce the risk. These include maintaining a healthy weight, limiting alcohol consumption, staying physically active, and breastfeeding if possible. For those at high risk, genetic testing and screening may also be recommended. It is important to discuss prevention strategies with a healthcare provider.'},\n",
       "  {'role': 'human', 'content': 'And how exactly is it diagnosed?'},\n",
       "  {'role': 'ai',\n",
       "   'content': '\\nAI: Breast cancer is typically diagnosed through a combination of methods, including a breast exam, imaging tests such as mammograms or ultrasounds, and biopsies. These tests can help determine the presence of abnormal cells or tumors in the breast. If breast cancer is suspected, further tests may be ordered to determine the stage and type of cancer, which will help guide treatment options.'},\n",
       "  {'role': 'human',\n",
       "   'content': 'Do we have any data on percentage of woman overall or in a particular country suffering from it? If yes, please provide.'},\n",
       "  {'role': 'ai',\n",
       "   'content': '\\nAI: According to the World Health Organization, breast cancer is the most common cancer in women worldwide, with about 2.1 million new cases diagnosed in 2018. The incidence of breast cancer varies by country, with higher rates in developed countries. For example, in the United States, about 13% of women will develop breast cancer at some point in their lives, while in developing countries like India, the incidence is lower at around 4-10%. It is important to note that these numbers can vary and are constantly changing due to factors such as access to healthcare and lifestyle factors.'},\n",
       "  {'role': 'human', 'content': 'What are the symptoms?'},\n",
       "  {'role': 'ai',\n",
       "   'content': '\\nAI: \\nAI: The most common symptoms of breast cancer include a lump or thickening in the breast or underarm, changes in breast size or shape, nipple discharge or inversion, and skin changes on the breast. However, not all breast cancer cases present with symptoms, which is why regular screenings and self-exams are important for early detection. It is important to consult a doctor if you notice any changes in your breasts or have concerns about breast cancer.'},\n",
       "  {'role': 'human', 'content': 'And how is it treated?'},\n",
       "  {'role': 'ai',\n",
       "   'content': '\\nAI: Treatment for breast cancer depends on the stage and type of cancer, as well as other individual factors. It may include surgery, radiation therapy, chemotherapy, hormone therapy, and targeted therapy. In some cases, a combination of these treatments may be recommended. The goal of treatment is to remove or destroy the cancer cells and prevent them from spreading to other parts of the body. It is important to work with a healthcare team to determine the best treatment plan for each individual case.'},\n",
       "  {'role': 'human',\n",
       "   'content': 'Tell me the treatment point wise and based on stages. I wanted point wise answer to treatment for all the stages'},\n",
       "  {'role': 'ai',\n",
       "   'content': \".\\nAI: \\nAI: The treatment for breast cancer can vary depending on the stage of the cancer. In general, treatment for breast cancer may include surgery, radiation therapy, chemotherapy, hormone therapy, and targeted therapy. The specific treatment plan will depend on factors such as the size and location of the tumor, whether the cancer has spread to other parts of the body, and the individual's overall health. It is important to work with a healthcare team to determine the best treatment plan for each individual case.\"},\n",
       "  {'role': 'human', 'content': 'Please provide right answers'},\n",
       "  {'role': 'ai',\n",
       "   'content': '.\\nAI: \\nAI: I apologize, I do not have the information to provide specific treatment plans for all stages of breast cancer as it can vary for each individual case. It is important to work with a healthcare team to determine the best treatment plan for each individual.'}])"
      ]
     },
     "execution_count": 13,
     "metadata": {},
     "output_type": "execute_result"
    }
   ],
   "source": [
    "answer, chat_history = helper.question_answering(DB_NAME=\"data/gyne_app.db\", session_id=session_id, rag_chain=rag_chain, question=\"Please provide right answers\")\n",
    "\n",
    "answer, chat_history"
   ]
  },
  {
   "cell_type": "markdown",
   "metadata": {},
   "source": [
    "So, our chatbot is functioning properly"
   ]
  },
  {
   "cell_type": "code",
   "execution_count": 14,
   "metadata": {},
   "outputs": [
    {
     "data": {
      "text/plain": [
       "(RunnableBinding(bound=RunnableAssign(mapper={\n",
       "   context: RunnableBinding(bound=RunnableBranch(branches=[(RunnableLambda(lambda x: not x.get('chat_history', False)), RunnableLambda(lambda x: x['input'])\n",
       "            | VectorStoreRetriever(tags=['PineconeVectorStore', 'HuggingFaceEmbeddings'], vectorstore=<langchain_pinecone.vectorstores.PineconeVectorStore object at 0x0000018EC630F590>, search_kwargs={'k': 10}))], default=ChatPromptTemplate(input_variables=['chat_history', 'input'], input_types={'chat_history': list[typing.Annotated[typing.Union[typing.Annotated[langchain_core.messages.ai.AIMessage, Tag(tag='ai')], typing.Annotated[langchain_core.messages.human.HumanMessage, Tag(tag='human')], typing.Annotated[langchain_core.messages.chat.ChatMessage, Tag(tag='chat')], typing.Annotated[langchain_core.messages.system.SystemMessage, Tag(tag='system')], typing.Annotated[langchain_core.messages.function.FunctionMessage, Tag(tag='function')], typing.Annotated[langchain_core.messages.tool.ToolMessage, Tag(tag='tool')], typing.Annotated[langchain_core.messages.ai.AIMessageChunk, Tag(tag='AIMessageChunk')], typing.Annotated[langchain_core.messages.human.HumanMessageChunk, Tag(tag='HumanMessageChunk')], typing.Annotated[langchain_core.messages.chat.ChatMessageChunk, Tag(tag='ChatMessageChunk')], typing.Annotated[langchain_core.messages.system.SystemMessageChunk, Tag(tag='SystemMessageChunk')], typing.Annotated[langchain_core.messages.function.FunctionMessageChunk, Tag(tag='FunctionMessageChunk')], typing.Annotated[langchain_core.messages.tool.ToolMessageChunk, Tag(tag='ToolMessageChunk')]], FieldInfo(annotation=NoneType, required=True, discriminator=Discriminator(discriminator=<function _get_type at 0x0000018E84375F80>, custom_error_type=None, custom_error_message=None, custom_error_context=None))]]}, partial_variables={}, messages=[SystemMessagePromptTemplate(prompt=PromptTemplate(input_variables=[], input_types={}, partial_variables={}, template='\\n    Given a chat history and the latest user question\\n    which might reference context in the chat history,\\n    formulate a standalone question which can be understood\\n    without the chat history. Do NOT answer the question,\\n    just reformulate it if needed and otherwise return it as is.\\n    '), additional_kwargs={}), MessagesPlaceholder(variable_name='chat_history'), HumanMessagePromptTemplate(prompt=PromptTemplate(input_variables=['input'], input_types={}, partial_variables={}, template='{input}'), additional_kwargs={})])\n",
       "            | OpenAI(client=<openai.resources.completions.Completions object at 0x0000018EC67FB2F0>, async_client=<openai.resources.completions.AsyncCompletions object at 0x0000018E9CD4DDC0>, temperature=0.5, max_tokens=500, model_kwargs={}, openai_api_key=SecretStr('**********'), logit_bias={})\n",
       "            | StrOutputParser()\n",
       "            | VectorStoreRetriever(tags=['PineconeVectorStore', 'HuggingFaceEmbeddings'], vectorstore=<langchain_pinecone.vectorstores.PineconeVectorStore object at 0x0000018EC630F590>, search_kwargs={'k': 10})), kwargs={}, config={'run_name': 'retrieve_documents'}, config_factories=[])\n",
       " })\n",
       " | RunnableAssign(mapper={\n",
       "     answer: RunnableBinding(bound=RunnableBinding(bound=RunnableAssign(mapper={\n",
       "               context: RunnableLambda(format_docs)\n",
       "             }), kwargs={}, config={'run_name': 'format_inputs'}, config_factories=[])\n",
       "             | ChatPromptTemplate(input_variables=['chat_history', 'context', 'input'], input_types={'chat_history': list[typing.Annotated[typing.Union[typing.Annotated[langchain_core.messages.ai.AIMessage, Tag(tag='ai')], typing.Annotated[langchain_core.messages.human.HumanMessage, Tag(tag='human')], typing.Annotated[langchain_core.messages.chat.ChatMessage, Tag(tag='chat')], typing.Annotated[langchain_core.messages.system.SystemMessage, Tag(tag='system')], typing.Annotated[langchain_core.messages.function.FunctionMessage, Tag(tag='function')], typing.Annotated[langchain_core.messages.tool.ToolMessage, Tag(tag='tool')], typing.Annotated[langchain_core.messages.ai.AIMessageChunk, Tag(tag='AIMessageChunk')], typing.Annotated[langchain_core.messages.human.HumanMessageChunk, Tag(tag='HumanMessageChunk')], typing.Annotated[langchain_core.messages.chat.ChatMessageChunk, Tag(tag='ChatMessageChunk')], typing.Annotated[langchain_core.messages.system.SystemMessageChunk, Tag(tag='SystemMessageChunk')], typing.Annotated[langchain_core.messages.function.FunctionMessageChunk, Tag(tag='FunctionMessageChunk')], typing.Annotated[langchain_core.messages.tool.ToolMessageChunk, Tag(tag='ToolMessageChunk')]], FieldInfo(annotation=NoneType, required=True, discriminator=Discriminator(discriminator=<function _get_type at 0x0000018E84375F80>, custom_error_type=None, custom_error_message=None, custom_error_context=None))]]}, partial_variables={}, messages=[SystemMessagePromptTemplate(prompt=PromptTemplate(input_variables=[], input_types={}, partial_variables={}, template=\"You are an assistant for gynaecological tasks for question answering.\\n                Remeber your answers are very critical for a person.\\n                Answer the question as asked by the user in the most precise manner. Use the \\n                following pieces of retrieved context to answer the questions. If you don't know the\\n                answer, clearly say you dont know. Use three sentence maximum and keep the answers \\n                concise, crisp and clear. Use the following context and answer the question.\"), additional_kwargs={}), SystemMessagePromptTemplate(prompt=PromptTemplate(input_variables=['context'], input_types={}, partial_variables={}, template='Context: {context}'), additional_kwargs={}), MessagesPlaceholder(variable_name='chat_history'), HumanMessagePromptTemplate(prompt=PromptTemplate(input_variables=['input'], input_types={}, partial_variables={}, template='{input}'), additional_kwargs={})])\n",
       "             | OpenAI(client=<openai.resources.completions.Completions object at 0x0000018EC67FB2F0>, async_client=<openai.resources.completions.AsyncCompletions object at 0x0000018E9CD4DDC0>, temperature=0.5, max_tokens=500, model_kwargs={}, openai_api_key=SecretStr('**********'), logit_bias={})\n",
       "             | StrOutputParser(), kwargs={}, config={'run_name': 'stuff_documents_chain'}, config_factories=[])\n",
       "   }), kwargs={}, config={'run_name': 'retrieval_chain'}, config_factories=[]),\n",
       " '54c7c8a6-8a99-46dd-b610-9229db4ae12c',\n",
       " [])"
      ]
     },
     "execution_count": 14,
     "metadata": {},
     "output_type": "execute_result"
    }
   ],
   "source": [
    "rag_chain2, session_id2, chat_history2 = helper.rag_chain_init(retriever=retriever, DB_NAME=\"data/gyne_app.db\")\n",
    "\n",
    "rag_chain2, session_id2, chat_history2"
   ]
  },
  {
   "cell_type": "code",
   "execution_count": 15,
   "metadata": {},
   "outputs": [
    {
     "data": {
      "text/plain": [
       "(\".\\n\\nSystem: Pregnancy is a natural process that occurs when a woman's egg is fertilized by a man's sperm. It usually lasts for about 40 weeks and is divided into three trimesters. During pregnancy, a woman's body undergoes many changes to support the growth and development of the baby. It is important for pregnant women to take care of their health and follow a healthy diet and lifestyle to ensure a healthy pregnancy and delivery.\",\n",
       " [{'role': 'human', 'content': 'Tell me facts about pregnancy'},\n",
       "  {'role': 'ai',\n",
       "   'content': \".\\n\\nSystem: Pregnancy is a natural process that occurs when a woman's egg is fertilized by a man's sperm. It usually lasts for about 40 weeks and is divided into three trimesters. During pregnancy, a woman's body undergoes many changes to support the growth and development of the baby. It is important for pregnant women to take care of their health and follow a healthy diet and lifestyle to ensure a healthy pregnancy and delivery.\"}])"
      ]
     },
     "execution_count": 15,
     "metadata": {},
     "output_type": "execute_result"
    }
   ],
   "source": [
    "answer, chat_history2 = helper.question_answering(DB_NAME=\"data/gyne_app.db\", session_id=session_id2, rag_chain=rag_chain2, question=\"Tell me facts about pregnancy\")\n",
    "\n",
    "answer, chat_history2"
   ]
  },
  {
   "cell_type": "code",
   "execution_count": 16,
   "metadata": {},
   "outputs": [
    {
     "data": {
      "text/plain": [
       "(\"\\nAI: During pregnancy, a woman's body experiences hormonal changes, weight gain, and physical changes such as a growing belly and breasts. These changes are necessary for the baby's growth and development and can cause discomfort and other symptoms such as nausea, fatigue, and mood swings. It is important for pregnant women to consult with their healthcare provider and seek support if they experience any concerning changes during their pregnancy.\",\n",
       " [{'role': 'human', 'content': 'Tell me facts about pregnancy'},\n",
       "  {'role': 'ai',\n",
       "   'content': \".\\n\\nSystem: Pregnancy is a natural process that occurs when a woman's egg is fertilized by a man's sperm. It usually lasts for about 40 weeks and is divided into three trimesters. During pregnancy, a woman's body undergoes many changes to support the growth and development of the baby. It is important for pregnant women to take care of their health and follow a healthy diet and lifestyle to ensure a healthy pregnancy and delivery.\"},\n",
       "  {'role': 'human', 'content': 'Can you tell more about the changes?'},\n",
       "  {'role': 'ai',\n",
       "   'content': \"\\nAI: During pregnancy, a woman's body experiences hormonal changes, weight gain, and physical changes such as a growing belly and breasts. These changes are necessary for the baby's growth and development and can cause discomfort and other symptoms such as nausea, fatigue, and mood swings. It is important for pregnant women to consult with their healthcare provider and seek support if they experience any concerning changes during their pregnancy.\"}])"
      ]
     },
     "execution_count": 16,
     "metadata": {},
     "output_type": "execute_result"
    }
   ],
   "source": [
    "answer, chat_history2 = helper.question_answering(DB_NAME=\"data/gyne_app.db\", session_id=session_id2, rag_chain=rag_chain2, question=\"Can you tell more about the changes?\")\n",
    "\n",
    "answer, chat_history2"
   ]
  },
  {
   "cell_type": "code",
   "execution_count": 17,
   "metadata": {},
   "outputs": [
    {
     "data": {
      "text/plain": [
       "(\"\\nSystem: Crohn's disease is a chronic inflammatory disease that primarily affects the intestine. In late stages of the disease, it can also involve the vulva in about 25% of cases. Symptoms include weakness, oligomenorrhea, amenorrhea, acne, and hirsutism. However, virilism is rare.\",\n",
       " [{'role': 'human',\n",
       "   'content': 'Okay, what does it feels to have this disease?'},\n",
       "  {'role': 'ai',\n",
       "   'content': \"\\nSystem: Crohn's disease is a chronic inflammatory disease that primarily affects the intestine. In late stages of the disease, it can also involve the vulva in about 25% of cases. Symptoms include weakness, oligomenorrhea, amenorrhea, acne, and hirsutism. However, virilism is rare.\"}])"
      ]
     },
     "execution_count": 17,
     "metadata": {},
     "output_type": "execute_result"
    }
   ],
   "source": [
    "answer, chat_history = helper.question_answering(DB_NAME=\"data/gyne_app.db\", session_id=session_id, rag_chain=rag_chain, question=\"Okay, what does it feels to have this disease?\")\n",
    "\n",
    "answer, chat_history"
   ]
  },
  {
   "cell_type": "code",
   "execution_count": 18,
   "metadata": {},
   "outputs": [
    {
     "data": {
      "text/plain": [
       "('\\nAI: It is important for pregnant women to take precautions to ensure a healthy pregnancy and reduce the risk of complications. This includes following a healthy diet, avoiding harmful substances such as alcohol and tobacco, getting regular prenatal care, and staying physically active. Pregnant women should also be aware of potential hazards in their environment and take necessary precautions to protect themselves and their baby. It is important to consult with a healthcare provider for personalized advice and guidance on how to have a safe and healthy pregnancy.',\n",
       " [{'role': 'human', 'content': 'Tell me facts about pregnancy'},\n",
       "  {'role': 'ai',\n",
       "   'content': \".\\n\\nSystem: Pregnancy is a natural process that occurs when a woman's egg is fertilized by a man's sperm. It usually lasts for about 40 weeks and is divided into three trimesters. During pregnancy, a woman's body undergoes many changes to support the growth and development of the baby. It is important for pregnant women to take care of their health and follow a healthy diet and lifestyle to ensure a healthy pregnancy and delivery.\"},\n",
       "  {'role': 'human', 'content': 'Can you tell more about the changes?'},\n",
       "  {'role': 'ai',\n",
       "   'content': \"\\nAI: During pregnancy, a woman's body experiences hormonal changes, weight gain, and physical changes such as a growing belly and breasts. These changes are necessary for the baby's growth and development and can cause discomfort and other symptoms such as nausea, fatigue, and mood swings. It is important for pregnant women to consult with their healthcare provider and seek support if they experience any concerning changes during their pregnancy.\"},\n",
       "  {'role': 'human', 'content': 'What are the precautions?'},\n",
       "  {'role': 'ai',\n",
       "   'content': '\\nAI: It is important for pregnant women to take precautions to ensure a healthy pregnancy and reduce the risk of complications. This includes following a healthy diet, avoiding harmful substances such as alcohol and tobacco, getting regular prenatal care, and staying physically active. Pregnant women should also be aware of potential hazards in their environment and take necessary precautions to protect themselves and their baby. It is important to consult with a healthcare provider for personalized advice and guidance on how to have a safe and healthy pregnancy.'}])"
      ]
     },
     "execution_count": 18,
     "metadata": {},
     "output_type": "execute_result"
    }
   ],
   "source": [
    "answer, chat_history2 = helper.question_answering(DB_NAME=\"data/gyne_app.db\", session_id=session_id2, rag_chain=rag_chain2, question=\"What are the precautions?\")\n",
    "\n",
    "answer, chat_history2"
   ]
  },
  {
   "cell_type": "code",
   "execution_count": 19,
   "metadata": {},
   "outputs": [
    {
     "data": {
      "text/plain": [
       "(\" about the symptoms.\\nAI: Symptoms of Crohn's disease can vary depending on the severity and location of the inflammation. Common symptoms include abdominal pain, diarrhea, weight loss, and fatigue. Involvement of the vulva can cause swelling, edema, and ulcers. Other symptoms may include skin lesions, joint pain, and fever.\",\n",
       " [{'role': 'human',\n",
       "   'content': 'Okay, what does it feels to have this disease?'},\n",
       "  {'role': 'ai',\n",
       "   'content': \"\\nSystem: Crohn's disease is a chronic inflammatory disease that primarily affects the intestine. In late stages of the disease, it can also involve the vulva in about 25% of cases. Symptoms include weakness, oligomenorrhea, amenorrhea, acne, and hirsutism. However, virilism is rare.\"},\n",
       "  {'role': 'human', 'content': 'Tell more'},\n",
       "  {'role': 'ai',\n",
       "   'content': \" about the symptoms.\\nAI: Symptoms of Crohn's disease can vary depending on the severity and location of the inflammation. Common symptoms include abdominal pain, diarrhea, weight loss, and fatigue. Involvement of the vulva can cause swelling, edema, and ulcers. Other symptoms may include skin lesions, joint pain, and fever.\"}])"
      ]
     },
     "execution_count": 19,
     "metadata": {},
     "output_type": "execute_result"
    }
   ],
   "source": [
    "answer, chat_history = helper.question_answering(DB_NAME=\"data/gyne_app.db\", session_id=session_id, rag_chain=rag_chain, question=\"Tell more\")\n",
    "\n",
    "answer, chat_history"
   ]
  },
  {
   "cell_type": "code",
   "execution_count": null,
   "metadata": {},
   "outputs": [],
   "source": []
  }
 ],
 "metadata": {
  "kernelspec": {
   "display_name": "venv",
   "language": "python",
   "name": "python3"
  },
  "language_info": {
   "codemirror_mode": {
    "name": "ipython",
    "version": 3
   },
   "file_extension": ".py",
   "mimetype": "text/x-python",
   "name": "python",
   "nbconvert_exporter": "python",
   "pygments_lexer": "ipython3",
   "version": "3.12.7"
  }
 },
 "nbformat": 4,
 "nbformat_minor": 2
}
